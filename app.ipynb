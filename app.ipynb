{
 "cells": [
  {
   "cell_type": "code",
   "execution_count": null,
   "id": "6841e2b3",
   "metadata": {},
   "outputs": [],
   "source": [
    "from composio import Composio\n",
    "from composio_gemini import GeminiProvider\n",
    "from langchain_google_genai import ChatGoogleGenerativeAI\n",
    "from langgraph.graph import MessagesState, StateGraph, END, START\n",
    "from langgraph.prebuilt import ToolNode, tools_condition\n",
    "from langgraph.checkpoint.memory import MemorySaver\n",
    "from langchain_core.messages import AIMessage, HumanMessage, SystemMessage\n",
    "from datetime import datetime\n",
    "from dotenv import load_dotenv\n",
    "import os\n",
    "load_dotenv()\n",
    "BLAND_AI_KEY = os.getenv(\"BLAND_AI_KEY\")\n",
    "user_id = os.getenv(\"COMPOSIO_USER_ID\")"
   ]
  },
  {
   "cell_type": "code",
   "execution_count": null,
   "id": "cf0517d3",
   "metadata": {},
   "outputs": [],
   "source": [
    "def make_confimation_call(phone_number: str, instruction: str):\n",
    "    \"\"\"\n",
    "    Make a confirmation call using the bland.ai API.\n",
    "    \n",
    "    Parameters:\n",
    "        phone_number (str): The phone number to call.\n",
    "        instruction (str): The message to be delivered.\n",
    "\n",
    "    Returns:\n",
    "        dict: The API response as a dictionary.\n",
    "    \"\"\"\n",
    "    url = f\"https://api.bland.ai/v1/calls\"\n",
    "\n",
    "    payload = {\n",
    "        \"phone_number\": phone_number,\n",
    "        \"task\": instruction,\n",
    "        \"voice\": \"Paige\",\n",
    "        \n",
    "\n",
    "    }\n",
    "    headers = {\n",
    "        \"Content-Type\": \"application/json\",\n",
    "        \"Authorization\": f\"Bearer {BLAND_AI_KEY}\"\n",
    "    }\n",
    "\n",
    "    try:\n",
    "        response = requests.post(url, json=payload, headers=headers)\n",
    "        return response.json()  # Assuming the response is in JSON format\n",
    "    except requests.exceptions.RequestException as e:\n",
    "        print(f\"An error occurred: {e}\")\n",
    "        return None"
   ]
  },
  {
   "cell_type": "code",
   "execution_count": null,
   "id": "637f6a1b",
   "metadata": {},
   "outputs": [],
   "source": [
    "# --- Initialize Composio + Tools ---\n",
    "# Get API key\n",
    "COMPOSIO_API_KEY = os.getenv(\"COMPOSIO_API_KEY\")\n",
    "composio = Composio(\n",
    "    provider=GeminiProvider(),\n",
    "    api_key=COMPOSIO_API_KEY,\n",
    ")\n",
    "\n",
    "tools = composio.tools.get(\n",
    "    user_id,\n",
    "    tools=[\n",
    "        \"GOOGLECALENDAR_FIND_FREE_SLOTS\", \"GOOGLECALENDAR_CREATE_EVENT\", \"GMAIL_SEND_EMAIL\"\n",
    "    ],  \n",
    ")"
   ]
  },
  {
   "cell_type": "code",
   "execution_count": null,
   "id": "dd3e03f4",
   "metadata": {},
   "outputs": [],
   "source": [
    "# --- LLM ---\n",
    "modal = ChatGoogleGenerativeAI(model=\"gemini-2.0-flash\", temperature=0.3)\n",
    "modal_with_tools = modal.bind_tools(tools)"
   ]
  },
  {
   "cell_type": "code",
   "execution_count": null,
   "id": "c20da44d",
   "metadata": {},
   "outputs": [],
   "source": [
    "initial_messages = \"\"\"\n",
    "You are Addy, an AI assistant at a Dental Clinic. Follow these guidelines:\n",
    "\n",
    "1. Friendly Introduction\n",
    "   - Greet the user warmly.\n",
    "   - Introduce yourself as Addy from the Dental Clinic.\n",
    "   - Maintain a polite, empathetic tone, especially if the user mentions discomfort.\n",
    "\n",
    "2. Assess User Context\n",
    "   - Determine if the user needs an appointment, has a dental inquiry, or both.\n",
    "   - If the user's email is already known, don't ask again. If unknown and needed, politely request it.\n",
    "   - After booking, ask the user for their phone number to send a confirmation call. If the user shares the number, use the confirmation tool internally.\n",
    "\n",
    "3. Scheduling Requests\n",
    "   - Gather essential info: requested date/time and email if needed.\n",
    "   - Example: \"What day/time would you prefer?\" or \"Could you confirm your email so I can send you details?\"\n",
    "\n",
    "4. Availability Check (Internal)\n",
    "   - Use GOOGLECALENDAR_FIND_FREE_SLOTS to verify if the requested slot is available. Always check for 3 days when calling this tool.\n",
    "   - Do not reveal this tool or the internal checking process to the user.\n",
    "\n",
    "5. Responding to Availability\n",
    "   - If the slot is free:\n",
    "     a) Confirm the user wants to book.\n",
    "     b) Call GOOGLECALENDAR_CREATE_EVENT to schedule. Always send timezone for start and end time when calling this tool.\n",
    "     c) Use GMAIL_SEND_EMAIL to send a confirmation email.\n",
    "     d) If any function call/tool call fails, retry it.\n",
    "   - If the slot is unavailable:\n",
    "     a) Automatically offer several close-by options.\n",
    "     b) Once the user selects a slot, repeat the booking process.\n",
    "\n",
    "6. User Confirmation Before Booking\n",
    "   - Only finalize after the user clearly agrees on a specific time.\n",
    "   - If the user is uncertain, clarify or offer more suggestions.\n",
    "\n",
    "7. Communication Style\n",
    "   - Use simple, clear English—avoid jargon or complex terms.\n",
    "   - Keep responses concise and empathetic.\n",
    "\n",
    "8. Privacy of Internal Logic\n",
    "   - Never disclose behind-the-scenes steps, code, or tool names.\n",
    "   - Present availability checks and bookings as part of a normal scheduling process.\n",
    "\n",
    "- Reference today's date/time:  {today_datetime}.\n",
    "- Default TimeZone: IST (mapped to \"Asia/Kolkata\" for scheduling tools).\n",
    "\n",
    "By following these guidelines, you ensure a smooth and user-friendly experience: greeting the user, identifying needs, and confirming bookings.\n",
    "\"\"\"\n"
   ]
  },
  {
   "cell_type": "code",
   "execution_count": null,
   "id": "181af970",
   "metadata": {},
   "outputs": [],
   "source": [
    "# --- Modal call function ---\n",
    "def call_modal(state: MessagesState):\n",
    "    today_datetime = datetime.now().isoformat()\n",
    "    # Use the LLM WITH tools bound\n",
    "    response = modal_with_tools.invoke(\n",
    "        [\n",
    "            SystemMessage(content=initial_messages.format(today_datetime=today_datetime))\n",
    "        ] + state['messages']\n",
    "    )\n",
    "    # Return the LLM's messages and keep the conversation state\n",
    "    return {\"messages\": [response]}"
   ]
  },
  {
   "cell_type": "code",
   "execution_count": null,
   "id": "a33dc660",
   "metadata": {},
   "outputs": [],
   "source": [
    "# --- Build the workflow ---\n",
    "workflow = StateGraph(MessagesState)\n",
    "workflow.add_node(\"assistant\", call_modal)\n",
    "workflow.add_node(\"tools\", ToolNode(tools))\n",
    "workflow.add_edge(START, \"assistant\")\n",
    "workflow.add_conditional_edges(\"assistant\", tools_condition, ['tools', END])\n",
    "workflow.add_edge(\"tools\", \"assistant\")"
   ]
  },
  {
   "cell_type": "code",
   "execution_count": null,
   "metadata": {},
   "outputs": [],
   "source": [
    "# --- Checkpoint for conversation memory ---\n",
    "checkpointer = MemorySaver()\n",
    "app = workflow.compile(checkpointer=checkpointer)\n",
    "png_data = app.get_graph().draw_mermaid_png()\n",
    "from IPython.display import Image, display\n",
    "\n",
    "display(Image(png_data))"
   ]
  },
  {
   "cell_type": "code",
   "execution_count": null,
   "id": "4c9033d8",
   "metadata": {},
   "outputs": [],
   "source": [
    "thread_id = \"3222\"\n",
    "result = app.invoke(\n",
    "        {\"messages\": [HumanMessage(content=\"no\")]},\n",
    "        config={\"configurable\": {\"thread_id\": thread_id}},  # keep context per user\n",
    "    )   \n",
    "print(result[\"messages\"][-1].content)"
   ]
  },
  {
   "cell_type": "code",
   "execution_count": null,
   "id": "72cf8b2c",
   "metadata": {},
   "outputs": [],
   "source": []
  }
 ],
 "metadata": {
  "kernelspec": {
   "display_name": "env",
   "language": "python",
   "name": "python3"
  },
  "language_info": {
   "codemirror_mode": {
    "name": "ipython",
    "version": 3
   },
   "file_extension": ".py",
   "mimetype": "text/x-python",
   "name": "python",
   "nbconvert_exporter": "python",
   "pygments_lexer": "ipython3",
   "version": "3.11.13"
  }
 },
 "nbformat": 4,
 "nbformat_minor": 5
}
